{
 "cells": [
  {
   "cell_type": "markdown",
   "metadata": {},
   "source": [
    "### Advent of code 2018\n",
    "\n",
    "\"We've detected some temporal anomalies,\" one of Santa's Elves at the Temporal Anomaly Research and Detection Instrument Station tells you. She sounded pretty worried when she called you down here. \"At 500-year intervals into the past, someone has been changing Santa's history!\"\n",
    "\n",
    "\"The good news is that the changes won't propagate to our time stream for another 25 days, and we have a device\" - she attaches something to your wrist - \"that will let you fix the changes with no such propagation delay. It's configured to send you 500 years further into the past every few days; that was the best we could do on such short notice.\"\n",
    "\n",
    "\"The bad news is that we are detecting roughly fifty anomalies throughout time; the device will indicate fixed anomalies with stars. The other bad news is that we only have one device and you're the best person for the job! Good lu--\" She taps a button on the device and you suddenly feel like you're falling. To save Christmas, you need to get all fifty stars by December 25th.\n",
    "\n",
    "Collect stars by solving puzzles. Two puzzles will be made available on each day in the advent calendar; the second puzzle is unlocked when you complete the first. Each puzzle grants one star. Good luck!"
   ]
  },
  {
   "cell_type": "code",
   "execution_count": 3,
   "metadata": {},
   "outputs": [
    {
     "data": {
      "text/plain": [
       "read_file (generic function with 2 methods)"
      ]
     },
     "execution_count": 3,
     "metadata": {},
     "output_type": "execute_result"
    }
   ],
   "source": [
    "# first task is to open and read the input file\n",
    "function read_file(file_path,dtype=nothing)\n",
    "    # open, read in and close the file\n",
    "    file = open(file_path)\n",
    "    input = readlines(file)\n",
    "    close(file)\n",
    "    # change the data type if specified\n",
    "    if dtype != nothing\n",
    "        input = [parse(dtype,s) for s in input]\n",
    "    end\n",
    "    return input\n",
    "end"
   ]
  },
  {
   "cell_type": "markdown",
   "metadata": {},
   "source": [
    "### Day 1: Chronal Calibration \n",
    "\n",
    "After feeling like you've been falling for a few minutes, you look at the device's tiny screen. \"Error: Device must be calibrated before first use. Frequency drift detected. Cannot maintain destination lock.\" Below the message, the device shows a sequence of changes in frequency (your puzzle input). A value like +6 means the current frequency increases by 6; a value like -3 means the current frequency decreases by 3.\n",
    "\n",
    "For example, if the device displays frequency changes of `+1, -2, +3, +1`, then starting from a frequency of zero, the following changes would occur:\n",
    "\n",
    "- Current frequency  `0`, change of `+1`; resulting frequency  `1`.\n",
    "- Current frequency  `1`, change of `-2`; resulting frequency `-1`.\n",
    "- Current frequency `-1`, change of `+3`; resulting frequency  `2`.\n",
    "- Current frequency  `2`, change of `+1`; resulting frequency  `3`.\n",
    "\n",
    "In this example, the resulting frequency is 3.\n",
    "\n",
    "Here are other example situations:\n",
    "\n",
    "- `+1, +1, +1` results in `3`\n",
    "- `+1, +1, -2` results in  `0`\n",
    "- `-1, -2, -3` results in `-6`\n",
    "\n",
    "Starting with a frequency of zero, what is the resulting frequency after all of the changes in frequency have been applied?\n",
    "\n",
    "\n",
    "Your puzzle answer was `500`.\n",
    "\n",
    "The first half of this puzzle is complete! It provides one gold star: *\n",
    "\n",
    "### Part Two \n",
    "\n",
    "You notice that the device repeats the same frequency change list over and over. To calibrate the device, you need to find the first frequency it reaches twice.\n",
    "\n",
    "For example, using the same list of changes above, the device would loop as follows:\n",
    "\n",
    "- Current frequency  `0`, change of `+1`; resulting frequency  `1`.\n",
    "- Current frequency  `1`, change of `-2`; resulting frequency `-1`.\n",
    "- Current frequency `-1`, change of `+3`; resulting frequency  `2`.\n",
    "- Current frequency  `2`, change of `+1`; resulting frequency  `3`.\n",
    "\n",
    "(At this point, the device continues from the start of the list.)\n",
    "\n",
    "- Current frequency  `3`, change of `+1`; resulting frequency  `4`.\n",
    "- Current frequency  `4`, change of `-2`; resulting frequency  `2`, which has already been seen.\n",
    "\n",
    "In this example, the first frequency reached twice is 2. Note that your device might need to repeat its list of frequency changes many times before a duplicate frequency is found, and that duplicates might be found while in the middle of processing the list.\n",
    "\n",
    "Here are other examples:\n",
    "\n",
    "- `+1, -1` first reaches `0` twice.\n",
    "- `+3, +3, +4, -2, -4` first reaches `10` twice.\n",
    "- `-6, +3, +8, +5, -6` first reaches `5` twice.\n",
    "- `+7, +7, -2, -7, -4` first reaches `14` twice.\n",
    "\n",
    "What is the first frequency your device reaches twice?\n",
    "\n",
    "Your puzzle answer was `709`.\n",
    "\n",
    "Both parts of this puzzle are complete! They provide two gold stars: **"
   ]
  },
  {
   "cell_type": "code",
   "execution_count": 208,
   "metadata": {},
   "outputs": [
    {
     "data": {
      "text/plain": [
       "find_repeat2 (generic function with 3 methods)"
      ]
     },
     "execution_count": 208,
     "metadata": {},
     "output_type": "execute_result"
    }
   ],
   "source": [
    "# first part: total calibration\n",
    "function get_total_calibration(input,print=true)\n",
    "    total_calibration = sum(input)\n",
    "    if print == true\n",
    "        println(\"The total calibration is: \", total_calibration)\n",
    "    end\n",
    "    return total_calibration\n",
    "end\n",
    "\n",
    "function find_repeat(input,print=true,verbose=true)\n",
    "    # measure length of array\n",
    "    array_length = size(input)[1]\n",
    "    # set up starting values\n",
    "    current_frequency = 0\n",
    "    previous_frequencies = []\n",
    "    # start at 1 (to get first value)\n",
    "    counter = 0\n",
    "    # loop through until we find a repeat value\n",
    "    while in(current_frequency,previous_frequencies[1:1:end-1]) == false\n",
    "        # add input value to frequency\n",
    "        current_frequency += input[(counter % array_length) + 1]\n",
    "        append!(previous_frequencies,current_frequency)\n",
    "        # print to screen every N iterations\n",
    "        if verbose == true\n",
    "            if counter % 10000 == 0\n",
    "                println(\"Done \", counter, \" iterations\")\n",
    "            end\n",
    "        end\n",
    "        # add one to the counter\n",
    "        counter += 1\n",
    "    end\n",
    "    # print out the value\n",
    "    if print == true\n",
    "        println(\"First repeat is \", current_frequency, \n",
    "                \"on iteration \",counter-1)\n",
    "    end\n",
    "    return current_frequency, counter\n",
    "end"
   ]
  },
  {
   "cell_type": "code",
   "execution_count": 210,
   "metadata": {},
   "outputs": [],
   "source": [
    "#input = read_file(\"Data/input1.txt\",Int)\n",
    "#total_calibration = get_total_calibration(input)\n",
    "#freq, iteration = find_repeat(input,verbose=false)"
   ]
  },
  {
   "cell_type": "markdown",
   "metadata": {},
   "source": [
    "### What have I learned?\n",
    "\n",
    "Here, I can read in a file and convert it to an array in Julia. I can sum the array, and look for any repeat values.\n",
    "\n",
    "For the second part, I used a simple `while` loop implementation to look for any repeat values. It may be worthwhile looking into vectorising any processes like this in the future."
   ]
  },
  {
   "cell_type": "markdown",
   "metadata": {},
   "source": [
    "### Day 2: Inventory Management System\n",
    "\n",
    "You stop falling through time, catch your breath, and check the screen on the device. \"Destination reached. Current Year: 1518. Current Location: North Pole Utility Closet 83N10.\" You made it! Now, to find those anomalies.\n",
    "\n",
    "Outside the utility closet, you hear footsteps and a voice. \"...I'm not sure either. But now that so many people have chimneys, maybe he could sneak in that way?\" Another voice responds, \"Actually, we've been working on a new kind of suit that would let him fit through tight spaces like that. But, I heard that a few days ago, they lost the prototype fabric, the design plans, everything! Nobody on the team can even seem to remember important details of the project!\"\n",
    "\n",
    "\"Wouldn't they have had enough fabric to fill several boxes in the warehouse? They'd be stored together, so the box IDs should be similar. Too bad it would take forever to search the warehouse for two similar box IDs...\" They walk too far away to hear any more.\n",
    "\n",
    "Late at night, you sneak to the warehouse - who knows what kinds of paradoxes you could cause if you were discovered - and use your fancy wrist device to quickly scan every box and produce a list of the likely candidates (your puzzle input).\n",
    "\n",
    "To make sure you didn't miss any, you scan the likely candidate boxes again, counting the number that have an ID containing exactly two of any letter and then separately counting those with exactly three of any letter. You can multiply those two counts together to get a rudimentary checksum and compare it to what your device predicts.\n",
    "\n",
    "For example, if you see the following box IDs:\n",
    "\n",
    "- `abcdef` contains no letters that appear exactly two or three times.\n",
    "- `bababc` contains two a and three b, so it counts for both.\n",
    "- `abbcde` contains two b, but no letter appears exactly three times.\n",
    "- `abcccd` contains three c, but no letter appears exactly two times.\n",
    "- `aabcdd` contains two a and two d, but it only counts once.\n",
    "- `abcdee` contains two e.\n",
    "- `ababab` contains three a and three b, but it only counts once.\n",
    "\n",
    "Of these box IDs, four of them contain a letter which appears exactly twice, and three of them contain a letter which appears exactly three times. Multiplying these together produces a checksum of 4 * 3 = 12.\n",
    "\n",
    "What is the checksum for your list of box IDs?\n",
    "\n",
    "Your puzzle answer was `5658`.\n",
    "\n",
    "The first half of this puzzle is complete! It provides one gold star: *\n",
    "\n",
    "#### Part Two \n",
    "\n",
    "Confident that your list of box IDs is complete, you're ready to find the boxes full of prototype fabric.\n",
    "\n",
    "The boxes will have IDs which differ by exactly one character at the same position in both strings. For example, given the following box IDs:\n",
    "\n",
    "- `abcde`\n",
    "- `fghij`\n",
    "- `klmno`\n",
    "- `pqrst`\n",
    "- `fguij`\n",
    "- `axcye`\n",
    "- `wvxyz`\n",
    "\n",
    "The IDs abcde and axcye are close, but they differ by two characters (the second and fourth). However, the IDs `fghij` and `fguij` differ by exactly one character, the third (h and u). Those must be the correct boxes.\n",
    "\n",
    "What letters are common between the two correct box IDs? (In the example above, this is found by removing the differing character from either ID, producing `fgij`.)\n",
    "\n",
    "Your puzzle answer was `nmgyjkpruszlbaqwficavxneo`.\n",
    "\n",
    "Both parts of this puzzle are complete! They provide two gold stars: **"
   ]
  },
  {
   "cell_type": "code",
   "execution_count": 1,
   "metadata": {},
   "outputs": [
    {
     "data": {
      "text/plain": [
       "find_matching_boxes (generic function with 2 methods)"
      ]
     },
     "execution_count": 1,
     "metadata": {},
     "output_type": "execute_result"
    }
   ],
   "source": [
    "using StatsBase\n",
    "\n",
    "function get_checksum(input,print=true)\n",
    "    # initialise counters\n",
    "    N_2_counts = 0\n",
    "    N_3_counts = 0\n",
    "    \n",
    "    for item in input\n",
    "        item_list = [char for char in item]\n",
    "        # get counts for unique elements\n",
    "        cm = countmap(item_list)\n",
    "        N_2 = 0\n",
    "        N_3 = 0\n",
    "        # check if we have 2 or 3 repeat elements\n",
    "        for key in keys(cm)\n",
    "            if cm[key] == 2\n",
    "                N_2 += 1\n",
    "            elseif cm[key] == 3\n",
    "                N_3 += 1\n",
    "            end\n",
    "        end\n",
    "        # append counts to the dictionary\n",
    "        N_2_counts += min(N_2,1)\n",
    "        N_3_counts += min(N_3,1)\n",
    "    end\n",
    "    # print result to screen if specified\n",
    "    if print == true\n",
    "        println(\"  \",N_2_counts,\" for 2\")\n",
    "        println(\"+ \", N_3_counts,\" for 3\")\n",
    "        println(\"= \", N_3_counts * N_2_counts)\n",
    "    end\n",
    "    # return the count \n",
    "    return N_3_counts * N_2_counts\n",
    "end\n",
    "\n",
    "function find_matching_boxes(input,print=true)\n",
    "    # initialise the parameters\n",
    "    N_same_best = 0\n",
    "    id0 = nothing\n",
    "    id1 = nothing\n",
    "    best_same = nothing\n",
    "    id_list = nothing\n",
    "    # loop through the input values\n",
    "    for item0 in input\n",
    "        for item1 in input\n",
    "            item0_list = [char for char in item0]\n",
    "            item1_list = [char for char in item1]\n",
    "            if item0_list != item1_list\n",
    "                same_values = [i == j for (i,j) in zip(item0_list,item1_list)]\n",
    "                N_same = sum(same_values)\n",
    "                # update values \n",
    "                if N_same > N_same_best\n",
    "                    N_same_best = N_same\n",
    "                    id0 = item0\n",
    "                    id1 = item1\n",
    "                    best_same = same_values\n",
    "                    id_list = item0_list\n",
    "                end\n",
    "            end\n",
    "        end\n",
    "    end\n",
    "    # print output to screen\n",
    "    if print == true\n",
    "        println(\"Matching boxes are \", id0, \" and \", id1)\n",
    "        println(\"Letters in common are \", join([i for i in id_list[best_same]]))\n",
    "    end\n",
    "    # return ids of the two matches\n",
    "    return id0, id1\n",
    "end  "
   ]
  },
  {
   "cell_type": "code",
   "execution_count": 4,
   "metadata": {},
   "outputs": [
    {
     "name": "stdout",
     "output_type": "stream",
     "text": [
      "  246 for 2\n",
      "+ 23 for 3\n",
      "= 5658\n",
      "Matching boxes are ndmgyjkpruszlbaqwficavxneo and nomgyjkpruszlbaqwficavxneo\n",
      "Letters in common are nmgyjkpruszlbaqwficavxneo\n"
     ]
    },
    {
     "data": {
      "text/plain": [
       "(\"ndmgyjkpruszlbaqwficavxneo\", \"nomgyjkpruszlbaqwficavxneo\")"
      ]
     },
     "execution_count": 4,
     "metadata": {},
     "output_type": "execute_result"
    }
   ],
   "source": [
    "#input = read_file(\"Data/input2.txt\")\n",
    "#checksum = get_checksum(input)\n",
    "#id0, id1 = find_matching_boxes(input)"
   ]
  },
  {
   "cell_type": "code",
   "execution_count": null,
   "metadata": {},
   "outputs": [],
   "source": []
  }
 ],
 "metadata": {
  "kernelspec": {
   "display_name": "Julia 1.0.2",
   "language": "julia",
   "name": "julia-1.0"
  },
  "language_info": {
   "file_extension": ".jl",
   "mimetype": "application/julia",
   "name": "julia",
   "version": "1.0.2"
  }
 },
 "nbformat": 4,
 "nbformat_minor": 2
}
